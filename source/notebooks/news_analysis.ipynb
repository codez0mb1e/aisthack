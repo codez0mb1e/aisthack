{
 "cells": [
  {
   "cell_type": "code",
   "execution_count": 1,
   "metadata": {
    "collapsed": true
   },
   "outputs": [],
   "source": [
    "#import nltk\n",
    "#import numpy as np\n",
    "import pandas as pd\n",
    "import datetime  as dt\n",
    "#import re\n",
    "\n",
    "from textblob import TextBlob"
   ]
  },
  {
   "cell_type": "code",
   "execution_count": 2,
   "metadata": {
    "scrolled": true
   },
   "outputs": [
    {
     "data": {
      "text/html": [
       "<div>\n",
       "<style>\n",
       "    .dataframe thead tr:only-child th {\n",
       "        text-align: right;\n",
       "    }\n",
       "\n",
       "    .dataframe thead th {\n",
       "        text-align: left;\n",
       "    }\n",
       "\n",
       "    .dataframe tbody tr th {\n",
       "        vertical-align: top;\n",
       "    }\n",
       "</style>\n",
       "<table border=\"1\" class=\"dataframe\">\n",
       "  <thead>\n",
       "    <tr style=\"text-align: right;\">\n",
       "      <th></th>\n",
       "      <th>chat_id</th>\n",
       "      <th>chat_title</th>\n",
       "      <th>sender_id</th>\n",
       "      <th>sender_username</th>\n",
       "      <th>text</th>\n",
       "      <th>DateTime</th>\n",
       "    </tr>\n",
       "    <tr>\n",
       "      <th>DateTime</th>\n",
       "      <th></th>\n",
       "      <th></th>\n",
       "      <th></th>\n",
       "      <th></th>\n",
       "      <th></th>\n",
       "      <th></th>\n",
       "    </tr>\n",
       "  </thead>\n",
       "  <tbody>\n",
       "    <tr>\n",
       "      <th>2018-04-21 04:16:00</th>\n",
       "      <td>1129149026</td>\n",
       "      <td>Pareto Network - Discussion</td>\n",
       "      <td>526106862</td>\n",
       "      <td>None</td>\n",
       "      <td>Admin disputes in private thank you.</td>\n",
       "      <td>2018-04-21 04:16:00</td>\n",
       "    </tr>\n",
       "    <tr>\n",
       "      <th>2018-04-21 04:16:00</th>\n",
       "      <td>1129149026</td>\n",
       "      <td>Pareto Network - Discussion</td>\n",
       "      <td>538526216</td>\n",
       "      <td>None</td>\n",
       "      <td>I see Binance add coins all the time on the Cr...</td>\n",
       "      <td>2018-04-21 04:16:00</td>\n",
       "    </tr>\n",
       "    <tr>\n",
       "      <th>2018-04-21 04:40:14</th>\n",
       "      <td>1146170349</td>\n",
       "      <td>Binance English</td>\n",
       "      <td>400753764</td>\n",
       "      <td>daysandbox_bot</td>\n",
       "      <td>Removed msg from __Megzon Kadrija__. Reason: n...</td>\n",
       "      <td>2018-04-21 04:40:14</td>\n",
       "    </tr>\n",
       "    <tr>\n",
       "      <th>2018-04-21 04:36:12</th>\n",
       "      <td>1146170349</td>\n",
       "      <td>Binance English</td>\n",
       "      <td>435609627</td>\n",
       "      <td>None</td>\n",
       "      <td>Bc xvg dead</td>\n",
       "      <td>2018-04-21 04:36:12</td>\n",
       "    </tr>\n",
       "    <tr>\n",
       "      <th>2018-04-21 04:52:22</th>\n",
       "      <td>1146170349</td>\n",
       "      <td>Binance English</td>\n",
       "      <td>154857846</td>\n",
       "      <td>None</td>\n",
       "      <td>Yes, youre right 👍</td>\n",
       "      <td>2018-04-21 04:52:22</td>\n",
       "    </tr>\n",
       "  </tbody>\n",
       "</table>\n",
       "</div>"
      ],
      "text/plain": [
       "                        chat_id                   chat_title  sender_id  \\\n",
       "DateTime                                                                  \n",
       "2018-04-21 04:16:00  1129149026  Pareto Network - Discussion  526106862   \n",
       "2018-04-21 04:16:00  1129149026  Pareto Network - Discussion  538526216   \n",
       "2018-04-21 04:40:14  1146170349              Binance English  400753764   \n",
       "2018-04-21 04:36:12  1146170349              Binance English  435609627   \n",
       "2018-04-21 04:52:22  1146170349              Binance English  154857846   \n",
       "\n",
       "                    sender_username  \\\n",
       "DateTime                              \n",
       "2018-04-21 04:16:00            None   \n",
       "2018-04-21 04:16:00            None   \n",
       "2018-04-21 04:40:14  daysandbox_bot   \n",
       "2018-04-21 04:36:12            None   \n",
       "2018-04-21 04:52:22            None   \n",
       "\n",
       "                                                                  text  \\\n",
       "DateTime                                                                 \n",
       "2018-04-21 04:16:00               Admin disputes in private thank you.   \n",
       "2018-04-21 04:16:00  I see Binance add coins all the time on the Cr...   \n",
       "2018-04-21 04:40:14  Removed msg from __Megzon Kadrija__. Reason: n...   \n",
       "2018-04-21 04:36:12                                        Bc xvg dead   \n",
       "2018-04-21 04:52:22                                 Yes, youre right 👍   \n",
       "\n",
       "                               DateTime  \n",
       "DateTime                                 \n",
       "2018-04-21 04:16:00 2018-04-21 04:16:00  \n",
       "2018-04-21 04:16:00 2018-04-21 04:16:00  \n",
       "2018-04-21 04:40:14 2018-04-21 04:40:14  \n",
       "2018-04-21 04:36:12 2018-04-21 04:36:12  \n",
       "2018-04-21 04:52:22 2018-04-21 04:52:22  "
      ]
     },
     "execution_count": 2,
     "metadata": {},
     "output_type": "execute_result"
    }
   ],
   "source": [
    "chat = pd.read_csv('chats_train.csv')\n",
    "chat['DateTime'] = pd.to_datetime(chat['timestamp'], unit='s')\n",
    "chat = chat.drop(['timestamp','emoji_list', 'sender_first_name','sender_is_bot', 'sender_last_name'], axis = 1)\n",
    "chat.index = pd.to_datetime(chat.DateTime)\n",
    "chat.head()"
   ]
  },
  {
   "cell_type": "code",
   "execution_count": 3,
   "metadata": {
    "collapsed": true
   },
   "outputs": [],
   "source": [
    "def datetime_range(start, end, delta):\n",
    "    current = start\n",
    "    while current < end:\n",
    "        yield current\n",
    "        current += delta"
   ]
  },
  {
   "cell_type": "code",
   "execution_count": 4,
   "metadata": {},
   "outputs": [
    {
     "data": {
      "text/html": [
       "<div>\n",
       "<style>\n",
       "    .dataframe thead tr:only-child th {\n",
       "        text-align: right;\n",
       "    }\n",
       "\n",
       "    .dataframe thead th {\n",
       "        text-align: left;\n",
       "    }\n",
       "\n",
       "    .dataframe tbody tr th {\n",
       "        vertical-align: top;\n",
       "    }\n",
       "</style>\n",
       "<table border=\"1\" class=\"dataframe\">\n",
       "  <thead>\n",
       "    <tr style=\"text-align: right;\">\n",
       "      <th></th>\n",
       "      <th>chat_id</th>\n",
       "      <th>chat_title</th>\n",
       "      <th>sender_id</th>\n",
       "      <th>sender_username</th>\n",
       "      <th>text</th>\n",
       "      <th>DateTime</th>\n",
       "    </tr>\n",
       "    <tr>\n",
       "      <th>DateTime</th>\n",
       "      <th></th>\n",
       "      <th></th>\n",
       "      <th></th>\n",
       "      <th></th>\n",
       "      <th></th>\n",
       "      <th></th>\n",
       "    </tr>\n",
       "  </thead>\n",
       "  <tbody>\n",
       "    <tr>\n",
       "      <th>2018-04-13 06:36:34</th>\n",
       "      <td>1181367025</td>\n",
       "      <td>ICO Talk Group</td>\n",
       "      <td>469420013</td>\n",
       "      <td>Melchis7</td>\n",
       "      <td>BTG &amp; SWFTC Airdrop Program\\n( 4/13/2017 to 4/...</td>\n",
       "      <td>2018-04-13 06:36:34</td>\n",
       "    </tr>\n",
       "    <tr>\n",
       "      <th>2018-03-26 18:13:26</th>\n",
       "      <td>1146170349</td>\n",
       "      <td>Binance English</td>\n",
       "      <td>414558955</td>\n",
       "      <td>thesmallgod</td>\n",
       "      <td>BTG is about to launch something</td>\n",
       "      <td>2018-03-26 18:13:26</td>\n",
       "    </tr>\n",
       "  </tbody>\n",
       "</table>\n",
       "</div>"
      ],
      "text/plain": [
       "                        chat_id       chat_title  sender_id sender_username  \\\n",
       "DateTime                                                                      \n",
       "2018-04-13 06:36:34  1181367025   ICO Talk Group  469420013        Melchis7   \n",
       "2018-03-26 18:13:26  1146170349  Binance English  414558955     thesmallgod   \n",
       "\n",
       "                                                                  text  \\\n",
       "DateTime                                                                 \n",
       "2018-04-13 06:36:34  BTG & SWFTC Airdrop Program\\n( 4/13/2017 to 4/...   \n",
       "2018-03-26 18:13:26                   BTG is about to launch something   \n",
       "\n",
       "                               DateTime  \n",
       "DateTime                                 \n",
       "2018-04-13 06:36:34 2018-04-13 06:36:34  \n",
       "2018-03-26 18:13:26 2018-03-26 18:13:26  "
      ]
     },
     "execution_count": 4,
     "metadata": {},
     "output_type": "execute_result"
    }
   ],
   "source": [
    "df1 = chat[chat.text.str.contains('BTG', na=False)]\n",
    "df1.head(2)"
   ]
  },
  {
   "cell_type": "code",
   "execution_count": 10,
   "metadata": {
    "collapsed": true
   },
   "outputs": [],
   "source": [
    "ww = datetime_range(df1.index.min(), df1.index.max(), dt.timedelta(hours = 1))\n",
    "\n",
    "d = []\n",
    "d1 = []\n",
    "chat_id = []\n",
    "text = []\n",
    "for i1 in ww:\n",
    "    df2 = df1[['text', 'chat_id']][(df1.index > i1) & (df1.index < i1+dt.timedelta(hours = 1))]\n",
    "    s = ''\n",
    "    for i2 in df2['text']:\n",
    "        s = s+' ' + str(i2)\n",
    "    chat_id.append(df2.chat_id.unique().shape[0])\n",
    "    text.append(df2.text.unique().shape[0])\n",
    "    wiki = TextBlob(s)\n",
    "    d.append(i1)\n",
    "    d1.append(wiki.sentiment.polarity)\n",
    "    "
   ]
  },
  {
   "cell_type": "code",
   "execution_count": null,
   "metadata": {
    "collapsed": true
   },
   "outputs": [],
   "source": [
    "ww1 = datetime_range(chat.index.min(), chat.index.max(), dt.timedelta(hours = 1))\n",
    "chat_id_ = []\n",
    "text_ = []\n",
    "for i1 in ww1:\n",
    "    df4 = chat[['text', 'chat_id']][(chat.index > i1) & (chat.index < i1+dt.timedelta(hours = 1))]\n",
    "    chat_id_.append(df4.chat_id.unique().shape[0])\n",
    "    text_.append(df4.text.unique().shape[0])\n"
   ]
  },
  {
   "cell_type": "code",
   "execution_count": 7,
   "metadata": {},
   "outputs": [
    {
     "ename": "ValueError",
     "evalue": "arrays must all be same length",
     "output_type": "error",
     "traceback": [
      "\u001b[1;31m---------------------------------------------------------------------------\u001b[0m",
      "\u001b[1;31mValueError\u001b[0m                                Traceback (most recent call last)",
      "\u001b[1;32m<ipython-input-7-ab6f54920409>\u001b[0m in \u001b[0;36m<module>\u001b[1;34m()\u001b[0m\n\u001b[0;32m      1\u001b[0m \u001b[0md2\u001b[0m \u001b[1;33m=\u001b[0m \u001b[1;33m{\u001b[0m\u001b[1;34m'DateTime'\u001b[0m\u001b[1;33m:\u001b[0m \u001b[0md\u001b[0m\u001b[1;33m,\u001b[0m \u001b[1;34m'Vol'\u001b[0m\u001b[1;33m:\u001b[0m \u001b[0md1\u001b[0m\u001b[1;33m,\u001b[0m \u001b[1;34m'message'\u001b[0m\u001b[1;33m:\u001b[0m\u001b[0mtext\u001b[0m \u001b[1;33m,\u001b[0m\u001b[1;34m'all_mess'\u001b[0m\u001b[1;33m:\u001b[0m\u001b[0mtext_\u001b[0m\u001b[1;33m,\u001b[0m \u001b[1;34m'chat_hour'\u001b[0m\u001b[1;33m:\u001b[0m\u001b[0mchat_id\u001b[0m\u001b[1;33m,\u001b[0m \u001b[1;34m'all_chats'\u001b[0m\u001b[1;33m:\u001b[0m\u001b[0mchat_id_\u001b[0m\u001b[1;33m}\u001b[0m\u001b[1;33m\u001b[0m\u001b[0m\n\u001b[1;32m----> 2\u001b[1;33m \u001b[0mdf3\u001b[0m \u001b[1;33m=\u001b[0m \u001b[0mpd\u001b[0m\u001b[1;33m.\u001b[0m\u001b[0mDataFrame\u001b[0m\u001b[1;33m(\u001b[0m\u001b[0mdata\u001b[0m \u001b[1;33m=\u001b[0m \u001b[0md2\u001b[0m\u001b[1;33m)\u001b[0m\u001b[1;33m\u001b[0m\u001b[0m\n\u001b[0m\u001b[0;32m      3\u001b[0m \u001b[0mdf3\u001b[0m\u001b[1;33m.\u001b[0m\u001b[0mhead\u001b[0m\u001b[1;33m(\u001b[0m\u001b[1;36m2\u001b[0m\u001b[1;33m)\u001b[0m\u001b[1;33m\u001b[0m\u001b[0m\n",
      "\u001b[1;32m~\\Anaconda3\\lib\\site-packages\\pandas\\core\\frame.py\u001b[0m in \u001b[0;36m__init__\u001b[1;34m(self, data, index, columns, dtype, copy)\u001b[0m\n\u001b[0;32m    273\u001b[0m                                  dtype=dtype, copy=copy)\n\u001b[0;32m    274\u001b[0m         \u001b[1;32melif\u001b[0m \u001b[0misinstance\u001b[0m\u001b[1;33m(\u001b[0m\u001b[0mdata\u001b[0m\u001b[1;33m,\u001b[0m \u001b[0mdict\u001b[0m\u001b[1;33m)\u001b[0m\u001b[1;33m:\u001b[0m\u001b[1;33m\u001b[0m\u001b[0m\n\u001b[1;32m--> 275\u001b[1;33m             \u001b[0mmgr\u001b[0m \u001b[1;33m=\u001b[0m \u001b[0mself\u001b[0m\u001b[1;33m.\u001b[0m\u001b[0m_init_dict\u001b[0m\u001b[1;33m(\u001b[0m\u001b[0mdata\u001b[0m\u001b[1;33m,\u001b[0m \u001b[0mindex\u001b[0m\u001b[1;33m,\u001b[0m \u001b[0mcolumns\u001b[0m\u001b[1;33m,\u001b[0m \u001b[0mdtype\u001b[0m\u001b[1;33m=\u001b[0m\u001b[0mdtype\u001b[0m\u001b[1;33m)\u001b[0m\u001b[1;33m\u001b[0m\u001b[0m\n\u001b[0m\u001b[0;32m    276\u001b[0m         \u001b[1;32melif\u001b[0m \u001b[0misinstance\u001b[0m\u001b[1;33m(\u001b[0m\u001b[0mdata\u001b[0m\u001b[1;33m,\u001b[0m \u001b[0mma\u001b[0m\u001b[1;33m.\u001b[0m\u001b[0mMaskedArray\u001b[0m\u001b[1;33m)\u001b[0m\u001b[1;33m:\u001b[0m\u001b[1;33m\u001b[0m\u001b[0m\n\u001b[0;32m    277\u001b[0m             \u001b[1;32mimport\u001b[0m \u001b[0mnumpy\u001b[0m\u001b[1;33m.\u001b[0m\u001b[0mma\u001b[0m\u001b[1;33m.\u001b[0m\u001b[0mmrecords\u001b[0m \u001b[1;32mas\u001b[0m \u001b[0mmrecords\u001b[0m\u001b[1;33m\u001b[0m\u001b[0m\n",
      "\u001b[1;32m~\\Anaconda3\\lib\\site-packages\\pandas\\core\\frame.py\u001b[0m in \u001b[0;36m_init_dict\u001b[1;34m(self, data, index, columns, dtype)\u001b[0m\n\u001b[0;32m    409\u001b[0m             \u001b[0marrays\u001b[0m \u001b[1;33m=\u001b[0m \u001b[1;33m[\u001b[0m\u001b[0mdata\u001b[0m\u001b[1;33m[\u001b[0m\u001b[0mk\u001b[0m\u001b[1;33m]\u001b[0m \u001b[1;32mfor\u001b[0m \u001b[0mk\u001b[0m \u001b[1;32min\u001b[0m \u001b[0mkeys\u001b[0m\u001b[1;33m]\u001b[0m\u001b[1;33m\u001b[0m\u001b[0m\n\u001b[0;32m    410\u001b[0m \u001b[1;33m\u001b[0m\u001b[0m\n\u001b[1;32m--> 411\u001b[1;33m         \u001b[1;32mreturn\u001b[0m \u001b[0m_arrays_to_mgr\u001b[0m\u001b[1;33m(\u001b[0m\u001b[0marrays\u001b[0m\u001b[1;33m,\u001b[0m \u001b[0mdata_names\u001b[0m\u001b[1;33m,\u001b[0m \u001b[0mindex\u001b[0m\u001b[1;33m,\u001b[0m \u001b[0mcolumns\u001b[0m\u001b[1;33m,\u001b[0m \u001b[0mdtype\u001b[0m\u001b[1;33m=\u001b[0m\u001b[0mdtype\u001b[0m\u001b[1;33m)\u001b[0m\u001b[1;33m\u001b[0m\u001b[0m\n\u001b[0m\u001b[0;32m    412\u001b[0m \u001b[1;33m\u001b[0m\u001b[0m\n\u001b[0;32m    413\u001b[0m     \u001b[1;32mdef\u001b[0m \u001b[0m_init_ndarray\u001b[0m\u001b[1;33m(\u001b[0m\u001b[0mself\u001b[0m\u001b[1;33m,\u001b[0m \u001b[0mvalues\u001b[0m\u001b[1;33m,\u001b[0m \u001b[0mindex\u001b[0m\u001b[1;33m,\u001b[0m \u001b[0mcolumns\u001b[0m\u001b[1;33m,\u001b[0m \u001b[0mdtype\u001b[0m\u001b[1;33m=\u001b[0m\u001b[1;32mNone\u001b[0m\u001b[1;33m,\u001b[0m \u001b[0mcopy\u001b[0m\u001b[1;33m=\u001b[0m\u001b[1;32mFalse\u001b[0m\u001b[1;33m)\u001b[0m\u001b[1;33m:\u001b[0m\u001b[1;33m\u001b[0m\u001b[0m\n",
      "\u001b[1;32m~\\Anaconda3\\lib\\site-packages\\pandas\\core\\frame.py\u001b[0m in \u001b[0;36m_arrays_to_mgr\u001b[1;34m(arrays, arr_names, index, columns, dtype)\u001b[0m\n\u001b[0;32m   5494\u001b[0m     \u001b[1;31m# figure out the index, if necessary\u001b[0m\u001b[1;33m\u001b[0m\u001b[1;33m\u001b[0m\u001b[0m\n\u001b[0;32m   5495\u001b[0m     \u001b[1;32mif\u001b[0m \u001b[0mindex\u001b[0m \u001b[1;32mis\u001b[0m \u001b[1;32mNone\u001b[0m\u001b[1;33m:\u001b[0m\u001b[1;33m\u001b[0m\u001b[0m\n\u001b[1;32m-> 5496\u001b[1;33m         \u001b[0mindex\u001b[0m \u001b[1;33m=\u001b[0m \u001b[0mextract_index\u001b[0m\u001b[1;33m(\u001b[0m\u001b[0marrays\u001b[0m\u001b[1;33m)\u001b[0m\u001b[1;33m\u001b[0m\u001b[0m\n\u001b[0m\u001b[0;32m   5497\u001b[0m     \u001b[1;32melse\u001b[0m\u001b[1;33m:\u001b[0m\u001b[1;33m\u001b[0m\u001b[0m\n\u001b[0;32m   5498\u001b[0m         \u001b[0mindex\u001b[0m \u001b[1;33m=\u001b[0m \u001b[0m_ensure_index\u001b[0m\u001b[1;33m(\u001b[0m\u001b[0mindex\u001b[0m\u001b[1;33m)\u001b[0m\u001b[1;33m\u001b[0m\u001b[0m\n",
      "\u001b[1;32m~\\Anaconda3\\lib\\site-packages\\pandas\\core\\frame.py\u001b[0m in \u001b[0;36mextract_index\u001b[1;34m(data)\u001b[0m\n\u001b[0;32m   5542\u001b[0m             \u001b[0mlengths\u001b[0m \u001b[1;33m=\u001b[0m \u001b[0mlist\u001b[0m\u001b[1;33m(\u001b[0m\u001b[0mset\u001b[0m\u001b[1;33m(\u001b[0m\u001b[0mraw_lengths\u001b[0m\u001b[1;33m)\u001b[0m\u001b[1;33m)\u001b[0m\u001b[1;33m\u001b[0m\u001b[0m\n\u001b[0;32m   5543\u001b[0m             \u001b[1;32mif\u001b[0m \u001b[0mlen\u001b[0m\u001b[1;33m(\u001b[0m\u001b[0mlengths\u001b[0m\u001b[1;33m)\u001b[0m \u001b[1;33m>\u001b[0m \u001b[1;36m1\u001b[0m\u001b[1;33m:\u001b[0m\u001b[1;33m\u001b[0m\u001b[0m\n\u001b[1;32m-> 5544\u001b[1;33m                 \u001b[1;32mraise\u001b[0m \u001b[0mValueError\u001b[0m\u001b[1;33m(\u001b[0m\u001b[1;34m'arrays must all be same length'\u001b[0m\u001b[1;33m)\u001b[0m\u001b[1;33m\u001b[0m\u001b[0m\n\u001b[0m\u001b[0;32m   5545\u001b[0m \u001b[1;33m\u001b[0m\u001b[0m\n\u001b[0;32m   5546\u001b[0m             \u001b[1;32mif\u001b[0m \u001b[0mhave_dicts\u001b[0m\u001b[1;33m:\u001b[0m\u001b[1;33m\u001b[0m\u001b[0m\n",
      "\u001b[1;31mValueError\u001b[0m: arrays must all be same length"
     ]
    }
   ],
   "source": [
    "d2 = {'DateTime': d, 'Vol': d1, 'message':text ,'all_mess':text_, 'chat_hour':chat_id, 'all_chats':chat_id_}\n",
    "df3 = pd.DataFrame(data = d2)\n",
    "df3.head(2)"
   ]
  },
  {
   "cell_type": "code",
   "execution_count": null,
   "metadata": {
    "collapsed": true
   },
   "outputs": [],
   "source": []
  }
 ],
 "metadata": {
  "kernelspec": {
   "display_name": "Python 3",
   "language": "python",
   "name": "python3"
  },
  "language_info": {
   "codemirror_mode": {
    "name": "ipython",
    "version": 3
   },
   "file_extension": ".py",
   "mimetype": "text/x-python",
   "name": "python",
   "nbconvert_exporter": "python",
   "pygments_lexer": "ipython3",
   "version": "3.6.2"
  }
 },
 "nbformat": 4,
 "nbformat_minor": 2
}
